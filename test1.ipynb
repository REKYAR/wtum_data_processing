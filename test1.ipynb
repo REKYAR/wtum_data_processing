{
 "cells": [
  {
   "cell_type": "code",
   "execution_count": 1,
   "id": "15a0b771-2cb2-41be-b960-027e59e05f83",
   "metadata": {},
   "outputs": [],
   "source": [
    "import sys\n",
    "sys.executable\n",
    "import pandas as pd\n",
    "import numpy as np\n",
    "import os\n",
    "import matplotlib.pyplot as plt\n",
    "import shutil\n"
   ]
  },
  {
   "cell_type": "markdown",
   "id": "b29d1f77-f477-4c56-a8fd-406a48d0bcd8",
   "metadata": {},
   "source": [
    "Sprawdzenie początkowego rokładu wieku w danych"
   ]
  },
  {
   "cell_type": "code",
   "execution_count": 2,
   "id": "38a02765-77b9-43d2-bbf7-f7e482fa33b1",
   "metadata": {},
   "outputs": [
    {
     "data": {
      "image/png": "[encoded data removed]",
      "text/plain": [
       "<Figure size 640x480 with 1 Axes>"
      ]
     },
     "metadata": {},
     "output_type": "display_data"
    }
   ],
   "source": [
    "res={}\n",
    "for filename in os.listdir('./data_merged'):\n",
    "    f = os.path.join('./data_merged', filename)\n",
    "        # checking if it is a file\n",
    "    if os.path.isfile(f):\n",
    "        age = int(filename.split('_')[0])\n",
    "            \n",
    "        if age in res:\n",
    "            res[age]+=1\n",
    "        else:\n",
    "            res[age]=1\n",
    "    \n",
    "plt.bar(res.keys(), res.values())\n",
    "plt.show()"
   ]
  },
  {
   "cell_type": "markdown",
   "id": "fe1e4edd-80c7-4e0b-b82b-988f8e230159",
   "metadata": {
    "tags": []
   },
   "source": [
    "Funkja tworząca number_of_classes klas, z podanego słownik postaci {wiek:liczność}, parametr exactly_equal_counts definiuje czy klasy maja byc dokladnie równej liczności"
   ]
  },
  {
   "cell_type": "code",
   "execution_count": 3,
   "id": "049e1096-22dc-46e5-8e0d-a5062b5b723c",
   "metadata": {},
   "outputs": [
    {
     "name": "stdout",
     "output_type": "stream",
     "text": [
      "generated ranges\n",
      "['1-2', '3-11', '12-21', '22-25', '26-27', '28-31', '32-38', '39-48', '49-58', '59-80']\n"
     ]
    }
   ],
   "source": [
    "def equisum_partition(arr,age_labels,p):\n",
    "    ac = arr.cumsum()\n",
    "\n",
    "    #sum of the entire array\n",
    "    partsum = ac[-1]//p \n",
    "\n",
    "    #generates the cumulative sums of each part\n",
    "    cumpartsums = np.array(range(1,p))*partsum\n",
    "\n",
    "    #finds the indices where the cumulative sums are sandwiched\n",
    "    inds = np.searchsorted(ac,cumpartsums) \n",
    "\n",
    "    #split into approximately equal-sum arrays\n",
    "    parts = np.split(arr,inds)\n",
    "    #print(\"indecies\")\n",
    "    #print(inds)\n",
    "    range_labels = []\n",
    "    range_labels.append(f\"1-{age_labels[inds[0]]-1}\")\n",
    "    for i in range(0, len(inds) - 1):\n",
    "        range_labels.append(f\"{age_labels[inds[i]]}-{age_labels[inds[i+1]]-1}\")\n",
    "    range_labels.append(f\"{age_labels[inds[-1]]}-{age_labels[-1]}\")\n",
    "    #print(parts)\n",
    "    print(\"generated ranges\")\n",
    "    print(range_labels)\n",
    "    return (parts, range_labels)\n",
    "\n",
    "res_keys_sorted = []\n",
    "for age_idx in sorted(res):\n",
    "    res_keys_sorted.append(res[age_idx])\n",
    "\n",
    "balanced_ranges = equisum_partition(np.array(res_keys_sorted),sorted(res),10)\n",
    "#10,11 (slabe), 12, 13(slabe), 14, \n"
   ]
  },
  {
   "cell_type": "code",
   "execution_count": 4,
   "id": "a37217db-4754-4fb2-8ef1-0472dd1ee5b8",
   "metadata": {
    "tags": []
   },
   "outputs": [
    {
     "name": "stdout",
     "output_type": "stream",
     "text": [
      "[3190, 3231, 3184, 2988, 3215, 3059, 3882, 3065, 3333, 3375]\n"
     ]
    },
    {
     "data": {
      "text/plain": [
       "<BarContainer object of 10 artists>"
      ]
     },
     "execution_count": 4,
     "metadata": {},
     "output_type": "execute_result"
    },
    {
     "data": {
      "image/png": "[encoded data removed]",
      "text/plain": [
       "<Figure size 640x480 with 1 Axes>"
      ]
     },
     "metadata": {},
     "output_type": "display_data"
    }
   ],
   "source": [
    "#print(balanced_ranges[0])\n",
    "#print(balanced_ranges[1])\n",
    "arrsum = []\n",
    "for arr in balanced_ranges[0]:\n",
    "    #print(arr)\n",
    "    arrsum.append(np.sum(arr))\n",
    "print(arrsum)\n",
    "plt.bar(balanced_ranges[1], arrsum)"
   ]
  },
  {
   "cell_type": "code",
   "execution_count": 7,
   "id": "8aa0f1ae-32ee-4f6d-94d2-1bbf98e3b440",
   "metadata": {
    "tags": []
   },
   "outputs": [
    {
     "name": "stdout",
     "output_type": "stream",
     "text": [
      "('1', '2')\n",
      "('3', '11')\n",
      "('12', '21')\n",
      "('22', '25')\n",
      "('26', '27')\n",
      "('28', '31')\n",
      "('32', '38')\n",
      "('39', '48')\n",
      "('49', '58')\n",
      "('59', '80')\n"
     ]
    }
   ],
   "source": [
    "#generate adequate dataset\n",
    "def build_dataset(keyranges):\n",
    "    os.mkdir(\"./generated_dataset\")\n",
    "    age_dict={}\n",
    "    for krng in keyranges:\n",
    "        os.mkdir(f\"./generated_dataset/{krng}\")\n",
    "        lower = krng.split('-')[0]\n",
    "        upper = krng.split('-')[1]\n",
    "        for age in range(int(lower), int(upper)+1):\n",
    "            age_dict[age] = krng\n",
    "        print((lower, upper))\n",
    "    #print(age_dict)\n",
    "        #copy photos\n",
    "    for filename in os.listdir('./data_merged'):\n",
    "        f = os.path.join('./data_merged', filename)\n",
    "            # checking if it is a file\n",
    "        if os.path.isfile(f):\n",
    "            age = int(filename.split('_')[0])\n",
    "            #copy to generated_dataset/age_dict[age]\n",
    "            shutil.copyfile(src=f, dst=f\"./generated_dataset/{age_dict[age]}/{filename}\")\n",
    "            \n",
    "        \n",
    "build_dataset(balanced_ranges[1])\n",
    "    "
   ]
  },
  {
   "cell_type": "code",
   "execution_count": 5,
   "id": "6a3b2eb9-db30-4351-a741-1f2891d31916",
   "metadata": {
    "tags": []
   },
   "outputs": [],
   "source": [
    "#split learn/validation\n",
    "\n",
    "def split_dataset(percent_learn):\n",
    "    os.mkdir(\"./generated_dataset_learn\")\n",
    "    os.mkdir(\"./generated_dataset_validation\")\n",
    "    for dirname in os.listdir('./generated_dataset'):\n",
    "        os.mkdir(f\"./generated_dataset_learn/{dirname}\")\n",
    "        os.mkdir(f\"./generated_dataset_validation/{dirname}\")\n",
    "        cnt=0\n",
    "        cnt_learn = (percent_learn/100) * len(os.listdir(f'./generated_dataset/{dirname}'))\n",
    "        for filename in os.listdir(f'./generated_dataset/{dirname}'):\n",
    "            if cnt<cnt_learn:\n",
    "                shutil.copyfile(src=f\"./generated_dataset/{dirname}/{filename}\", dst=f\"./generated_dataset_learn/{dirname}/{filename}\")\n",
    "            else:\n",
    "                shutil.copyfile(src=f\"./generated_dataset/{dirname}/{filename}\", dst=f\"./generated_dataset_validation/{dirname}/{filename}\")\n",
    "            cnt+=1\n",
    "split_dataset(80)"
   ]
  }
 ],
 "metadata": {
  "kernelspec": {
   "display_name": "Python 3 (ipykernel)",
   "language": "python",
   "name": "python3"
  },
  "language_info": {
   "codemirror_mode": {
    "name": "ipython",
    "version": 3
   },
   "file_extension": ".py",
   "mimetype": "text/x-python",
   "name": "python",
   "nbconvert_exporter": "python",
   "pygments_lexer": "ipython3",
   "version": "3.10.5"
  }
 },
 "nbformat": 4,
 "nbformat_minor": 5
}
