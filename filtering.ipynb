{
 "cells": [
  {
   "attachments": {},
   "cell_type": "markdown",
   "metadata": {},
   "source": [
    "UWAGA: Skrypt przyjmuje, że znajduje się w folderze, w którym jest folder \"generated_dataset\" utworzony dzięki test1.ipynb\n",
    "Wszystkie funkcje później operują na tym folderze lub folderach utworzonych na jego podstawie\n",
    "Wyjątkami są funkcje na samym dole, służące do podzielenia zbioru na zbiory do uczenia i testowania, oraz do dodania obróconych kopii obrazków w danym zbiorze - w tych funkcjach sugerowane jest podanie nazwy zbioru danych (folderu), który chcemy przetworzyć"
   ]
  },
  {
   "cell_type": "code",
   "execution_count": 2,
   "metadata": {},
   "outputs": [],
   "source": [
    "import sys\n",
    "sys.executable\n",
    "import pandas as pd\n",
    "import numpy as np\n",
    "import os\n",
    "import matplotlib.pyplot as plt\n",
    "import shutil\n",
    "import cv2\n",
    "import mediapipe as mp\n",
    "mp_face_detection = mp.solutions.face_detection"
   ]
  },
  {
   "attachments": {},
   "cell_type": "markdown",
   "metadata": {},
   "source": [
    "Nazwy folderów - zakresy wiekowe"
   ]
  },
  {
   "cell_type": "code",
   "execution_count": 3,
   "metadata": {},
   "outputs": [],
   "source": [
    "balanced_ranges = ['1-2', '3-11', '12-21', '22-25', '26-27', '28-31', '32-38', '39-48', '49-58', '59-80']       "
   ]
  },
  {
   "attachments": {},
   "cell_type": "markdown",
   "metadata": {},
   "source": [
    "Wycinanie twarzy Mediapipem"
   ]
  },
  {
   "cell_type": "code",
   "execution_count": 16,
   "metadata": {},
   "outputs": [],
   "source": [
    "def CropImage(image, xmin, ymin, xwidth, yheight):\n",
    "    \"\"\"Function for cropping images\n",
    "        image - source image\n",
    "        xmin, ymin - normalized top-left point coordinates for the cropped image\n",
    "        xwidth, ywidth - normalized width and height for the cropped image\"\"\"\n",
    "    left = int(xmin * image.shape[1])\n",
    "    top = int(ymin * image.shape[0])\n",
    "    width = int(xwidth * image.shape[1])\n",
    "    height = int(yheight * image.shape[0])\n",
    "    image_cropped = image[top:top+height, left:left+width]\n",
    "    return image_cropped\n",
    "\n",
    "def cut_out_faces(keyranges):\n",
    "    if os.path.isdir('./dataset_mediapipe'):\n",
    "        shutil.rmtree('./dataset_mediapipe')\n",
    "\n",
    "    os.mkdir(\"./dataset_mediapipe\")\n",
    "    with mp_face_detection.FaceDetection(\n",
    "        model_selection=1, min_detection_confidence=0.5) as face_detection:\n",
    "        for range in keyranges:\n",
    "            dst_directory = os.path.join('./dataset_mediapipe', range)\n",
    "            os.mkdir(dst_directory)\n",
    "            src_directory = os.path.join('./generated_dataset', range)\n",
    "            for filename in os.listdir(src_directory):\n",
    "                f = os.path.join(src_directory, filename)\n",
    "                if os.path.isfile(f):\n",
    "                    image = cv2.imread(f)\n",
    "                    # Convert the BGR image to RGB and process it with MediaPipe Face Detection.\n",
    "                    results = face_detection.process(cv2.cvtColor(image, cv2.COLOR_BGR2RGB))\n",
    "                    if not results.detections:\n",
    "                        continue\n",
    "\n",
    "                    for detection in results.detections:\n",
    "                        data = detection.location_data.relative_bounding_box\n",
    "                        cropped_image = CropImage(image, data.xmin, data.ymin, data.width, data.height)\n",
    "                        image_size = cropped_image.shape\n",
    "                        if image_size[0] > 20 and image_size[1] > 20 and image_size[0] == image_size[1]:\n",
    "                            cropped_image = cv2.resize(cropped_image, (200, 200))\n",
    "                            cv2.imwrite(\n",
    "                                f\"./dataset_mediapipe/{range}/{filename}\",\n",
    "                                cropped_image,\n",
    "                                [int(cv2.IMWRITE_JPEG_QUALITY), 100],\n",
    "                            )\n",
    "\n",
    "cut_out_faces(balanced_ranges)"
   ]
  },
  {
   "attachments": {},
   "cell_type": "markdown",
   "metadata": {},
   "source": [
    "Konwersja do odcieni szarości"
   ]
  },
  {
   "cell_type": "code",
   "execution_count": 17,
   "metadata": {},
   "outputs": [],
   "source": [
    "def filter_dataset_greyscale(keyranges):\n",
    "    if os.path.isdir(\"./dataset_greyscale\"):\n",
    "        shutil.rmtree(\"./dataset_greyscale\")\n",
    "    \n",
    "    os.mkdir(\"./dataset_greyscale\")\n",
    "\n",
    "    for range in keyranges:\n",
    "        dst_directory = os.path.join('./dataset_greyscale', range)\n",
    "        os.mkdir(dst_directory)\n",
    "        src_directory = os.path.join('./dataset_mediapipe', range)\n",
    "        for filename in os.listdir(src_directory):\n",
    "            f = os.path.join(src_directory, filename)\n",
    "            if os.path.isfile(f):\n",
    "                #copy to dataset_canny_edges/range\n",
    "                image = cv2.imread(f)\n",
    "                image_filtered = cv2.cvtColor(image, cv2.COLOR_BGR2GRAY)\n",
    "                cv2.imwrite(\n",
    "                    f\"./dataset_greyscale/{range}/{filename}\",\n",
    "                    image_filtered,\n",
    "                    [int(cv2.IMWRITE_JPEG_QUALITY), 100],\n",
    "                )\n",
    "            \n",
    "filter_dataset_greyscale(balanced_ranges)"
   ]
  },
  {
   "attachments": {},
   "cell_type": "markdown",
   "metadata": {},
   "source": [
    "Filtrowanie Canny edges na obrazkach czarno-białych"
   ]
  },
  {
   "cell_type": "code",
   "execution_count": 11,
   "metadata": {},
   "outputs": [],
   "source": [
    "def filter_dataset_canny_edges(keyranges):\n",
    "    if os.path.isdir(\"./dataset_canny_edges\"):\n",
    "        shutil.rmtree(\"./dataset_canny_edges\")\n",
    "\n",
    "    os.mkdir(\"./dataset_canny_edges\")\n",
    "\n",
    "    for range in keyranges:\n",
    "        dst_directory = os.path.join('./dataset_canny_edges', range)\n",
    "        os.mkdir(dst_directory)\n",
    "        src_directory = os.path.join('./dataset_greyscale', range)\n",
    "        for filename in os.listdir(src_directory):\n",
    "            f = os.path.join(src_directory, filename)\n",
    "            if os.path.isfile(f):\n",
    "                #copy to dataset_canny_edges/range\n",
    "                image = cv2.imread(f)\n",
    "                image_filtered = cv2.Canny(image, 50, 75)\n",
    "                cv2.imwrite(\n",
    "                    f\"./dataset_canny_edges/{range}/{filename}\",\n",
    "                    image_filtered,\n",
    "                    [int(cv2.IMWRITE_JPEG_QUALITY), 100],\n",
    "                )\n",
    "            \n",
    "filter_dataset_canny_edges(balanced_ranges)"
   ]
  },
  {
   "attachments": {},
   "cell_type": "markdown",
   "metadata": {},
   "source": [
    "Rozmycie Gaussa (wsm takie odszumianie)"
   ]
  },
  {
   "cell_type": "code",
   "execution_count": 16,
   "metadata": {},
   "outputs": [],
   "source": [
    "def filter_dataset_gaussian_blur(keyranges):\n",
    "    if os.path.isdir(\"./dataset_gaussian_blur\"):\n",
    "        shutil.rmtree(\"./dataset_gaussian_blur\")\n",
    "\n",
    "    os.mkdir(\"./dataset_gaussian_blur\")\n",
    "    ksize = 3\n",
    "\n",
    "    for range in keyranges:\n",
    "        dst_directory = os.path.join('./dataset_gaussian_blur', range)\n",
    "        os.mkdir(dst_directory)\n",
    "        src_directory = os.path.join('./dataset_greyscale', range)\n",
    "        for filename in os.listdir(src_directory):\n",
    "            f = os.path.join(src_directory, filename)\n",
    "            if os.path.isfile(f):\n",
    "                #copy to dataset_canny_edges/range\n",
    "                image = cv2.imread(f)\n",
    "                image_filtered = cv2.GaussianBlur(image, (5,5),0)\n",
    "                cv2.imwrite(\n",
    "                    f\"./dataset_gaussian_blur/{range}/{filename}\",\n",
    "                    image_filtered,\n",
    "                    [int(cv2.IMWRITE_JPEG_QUALITY), 100],\n",
    "                )\n",
    "            \n",
    "filter_dataset_gaussian_blur(balanced_ranges)"
   ]
  },
  {
   "attachments": {},
   "cell_type": "markdown",
   "metadata": {},
   "source": [
    "Canny Edges po rozmyciu Gaussa"
   ]
  },
  {
   "cell_type": "code",
   "execution_count": 22,
   "metadata": {},
   "outputs": [],
   "source": [
    "def filter_dataset_canny_edges_gaussian_blur(keyranges):\n",
    "    if os.path.isdir(\"./dataset_canny_edges_gaussian_blur\"):\n",
    "        shutil.rmtree(\"./dataset_canny_edges_gaussian_blur\")\n",
    "\n",
    "    os.mkdir(\"./dataset_canny_edges_gaussian_blur\")\n",
    "\n",
    "    for range in keyranges:\n",
    "        dst_directory = os.path.join('./dataset_canny_edges_gaussian_blur', range)\n",
    "        os.mkdir(dst_directory)\n",
    "        src_directory = os.path.join('./dataset_gaussian_blur', range)\n",
    "        for filename in os.listdir(src_directory):\n",
    "            f = os.path.join(src_directory, filename)\n",
    "            if os.path.isfile(f):\n",
    "                #copy to dataset_canny_edges/range\n",
    "                image = cv2.imread(f)\n",
    "                image_filtered = cv2.Canny(image, 50, 75)\n",
    "                cv2.imwrite(\n",
    "                    f\"./dataset_canny_edges_gaussian_blur/{range}/{filename}\",\n",
    "                    image_filtered,\n",
    "                    [int(cv2.IMWRITE_JPEG_QUALITY), 100],\n",
    "                )\n",
    "            \n",
    "filter_dataset_canny_edges_gaussian_blur(balanced_ranges)"
   ]
  },
  {
   "attachments": {},
   "cell_type": "markdown",
   "metadata": {},
   "source": [
    "Filtrowanie Sobel"
   ]
  },
  {
   "cell_type": "code",
   "execution_count": 17,
   "metadata": {},
   "outputs": [],
   "source": [
    "def filter_dataset_sobel_x(keyranges):\n",
    "    if os.path.isdir(\"./dataset_sobel_x\"):\n",
    "        shutil.rmtree(\"./dataset_sobel_x\")\n",
    "\n",
    "    os.mkdir(\"./dataset_sobel_x\")\n",
    "    ksize = 3\n",
    "\n",
    "    for range in keyranges:\n",
    "        dst_directory = os.path.join('./dataset_sobel_x', range)\n",
    "        os.mkdir(dst_directory)\n",
    "        src_directory = os.path.join('./dataset_greyscale', range)\n",
    "        for filename in os.listdir(src_directory):\n",
    "            f = os.path.join(src_directory, filename)\n",
    "            if os.path.isfile(f):\n",
    "                #copy to dataset_canny_edges/range\n",
    "                image = cv2.imread(f)\n",
    "                image_filtered = cv2.Sobel(image, ddepth=cv2.CV_32F, dx=1, dy=0, ksize=ksize)\n",
    "                cv2.imwrite(\n",
    "                    f\"./dataset_sobel_x/{range}/{filename}\",\n",
    "                    image_filtered,\n",
    "                    [int(cv2.IMWRITE_JPEG_QUALITY), 100],\n",
    "                )\n",
    "            \n",
    "filter_dataset_sobel_x(balanced_ranges)"
   ]
  },
  {
   "cell_type": "code",
   "execution_count": 18,
   "metadata": {},
   "outputs": [],
   "source": [
    "def filter_dataset_sobel_y(keyranges):\n",
    "    if os.path.isdir(\"./dataset_sobel_y\"):\n",
    "        shutil.rmtree(\"./dataset_sobel_y\")\n",
    "\n",
    "    os.mkdir(\"./dataset_sobel_y\")\n",
    "    ksize = 3\n",
    "\n",
    "    for range in keyranges:\n",
    "        dst_directory = os.path.join('./dataset_sobel_y', range)\n",
    "        os.mkdir(dst_directory)\n",
    "        src_directory = os.path.join('./dataset_greyscale', range)\n",
    "        for filename in os.listdir(src_directory):\n",
    "            f = os.path.join(src_directory, filename)\n",
    "            if os.path.isfile(f):\n",
    "                #copy to dataset_canny_edges/range\n",
    "                image = cv2.imread(f)\n",
    "                image_filtered = cv2.Sobel(image, ddepth=cv2.CV_32F, dx=0, dy=1, ksize=ksize)\n",
    "                cv2.imwrite(\n",
    "                    f\"./dataset_sobel_y/{range}/{filename}\",\n",
    "                    image_filtered,\n",
    "                    [int(cv2.IMWRITE_JPEG_QUALITY), 100],\n",
    "                )\n",
    "            \n",
    "filter_dataset_sobel_y(balanced_ranges)"
   ]
  },
  {
   "attachments": {},
   "cell_type": "markdown",
   "metadata": {},
   "source": [
    "Filtrowanie Sobel po obrazkach wygładzonych Gaussem"
   ]
  },
  {
   "cell_type": "code",
   "execution_count": null,
   "metadata": {},
   "outputs": [],
   "source": [
    "def filter_dataset_sobel_x_gauss(keyranges):\n",
    "    if os.path.isdir(\"./dataset_sobel_x_gauss\"):\n",
    "        shutil.rmtree(\"./dataset_sobel_x_gauss\")\n",
    "\n",
    "    os.mkdir(\"./dataset_sobel_x_gauss\")\n",
    "    ksize = 3\n",
    "\n",
    "    for range in keyranges:\n",
    "        dst_directory = os.path.join('./dataset_sobel_x_gauss', range)\n",
    "        os.mkdir(dst_directory)\n",
    "        src_directory = os.path.join('./dataset_gaussian_blur', range)\n",
    "        for filename in os.listdir(src_directory):\n",
    "            f = os.path.join(src_directory, filename)\n",
    "            if os.path.isfile(f):\n",
    "                #copy to dataset_canny_edges/range\n",
    "                image = cv2.imread(f)\n",
    "                image_filtered = cv2.Sobel(image, ddepth=cv2.CV_32F, dx=1, dy=0, ksize=ksize)\n",
    "                cv2.imwrite(\n",
    "                    f\"./dataset_sobel_x_gauss/{range}/{filename}\",\n",
    "                    image_filtered,\n",
    "                    [int(cv2.IMWRITE_JPEG_QUALITY), 100],\n",
    "                )\n",
    "            \n",
    "filter_dataset_sobel_x_gauss(balanced_ranges)"
   ]
  },
  {
   "cell_type": "code",
   "execution_count": null,
   "metadata": {},
   "outputs": [],
   "source": [
    "def filter_dataset_sobel_y_gauss(keyranges):\n",
    "    if os.path.isdir(\"./dataset_sobel_y_gauss\"):\n",
    "        shutil.rmtree(\"./dataset_sobel_y_gauss\")   \n",
    "\n",
    "    os.mkdir(\"./dataset_sobel_y_gauss\")    \n",
    "    ksize = 3\n",
    "\n",
    "    for range in keyranges:\n",
    "        dst_directory = os.path.join('./dataset_sobel_y_gauss', range)\n",
    "        os.mkdir(dst_directory)\n",
    "        src_directory = os.path.join('./dataset_gaussian_blur', range)\n",
    "        for filename in os.listdir(src_directory):\n",
    "            f = os.path.join(src_directory, filename)\n",
    "            if os.path.isfile(f):\n",
    "                #copy to dataset_canny_edges/range\n",
    "                image = cv2.imread(f)\n",
    "                image_filtered = cv2.Sobel(image, ddepth=cv2.CV_32F, dx=0, dy=1, ksize=ksize)\n",
    "                cv2.imwrite(\n",
    "                    f\"./dataset_sobel_y_gauss/{range}/{filename}\",\n",
    "                    image_filtered,\n",
    "                    [int(cv2.IMWRITE_JPEG_QUALITY), 100],\n",
    "                )\n",
    "            \n",
    "filter_dataset_sobel_y_gauss(balanced_ranges)"
   ]
  },
  {
   "attachments": {},
   "cell_type": "markdown",
   "metadata": {},
   "source": [
    "Podzielenie zbioru danych"
   ]
  },
  {
   "cell_type": "code",
   "execution_count": null,
   "metadata": {},
   "outputs": [],
   "source": [
    "def split_dataset(dataset_name, percent_learn):\n",
    "    if os.path.isdir(f\"./{dataset_name}_learn\"):\n",
    "        shutil.rmtree(f\"./{dataset_name}_learn\")   \n",
    "\n",
    "    if os.path.isdir(f\"./{dataset_name}_validation\"):\n",
    "        shutil.rmtree(f\"./{dataset_name}_validation\")           \n",
    "\n",
    "    os.mkdir(f\"./{dataset_name}_learn\")\n",
    "    os.mkdir(f\"./{dataset_name}_validation\")\n",
    "    for dirname in os.listdir(f\"./{dataset_name}\"):\n",
    "        os.mkdir(f\"./{dataset_name}_learn/{dirname}\")\n",
    "        os.mkdir(f\"./{dataset_name}_validation/{dirname}\")\n",
    "        cnt=0\n",
    "        cnt_learn = (percent_learn/100) * len(os.listdir(f'./{dataset_name}/{dirname}'))\n",
    "        for filename in os.listdir(f'./{dataset_name}/{dirname}'):\n",
    "            if cnt<cnt_learn:\n",
    "                shutil.copyfile(src=f\"./{dataset_name}/{dirname}/{filename}\", dst=f\"./{dataset_name}_learn/{dirname}/{filename}\")\n",
    "            else:\n",
    "                shutil.copyfile(src=f\"./{dataset_name}/{dirname}/{filename}\", dst=f\"./{dataset_name}_validation/{dirname}/{filename}\")\n",
    "            cnt+=1\n",
    "\n",
    "split_dataset(\"dataset_sobel_y\", 80)"
   ]
  },
  {
   "attachments": {},
   "cell_type": "markdown",
   "metadata": {},
   "source": [
    "Utworzenie obróconych wersji obrazków dla danego zbioru"
   ]
  },
  {
   "cell_type": "code",
   "execution_count": 25,
   "metadata": {},
   "outputs": [
    {
     "ename": "FileNotFoundError",
     "evalue": "[WinError 3] The system cannot find the path specified: './dataset_test\\\\3-11'",
     "output_type": "error",
     "traceback": [
      "\u001b[1;31m---------------------------------------------------------------------------\u001b[0m",
      "\u001b[1;31mFileNotFoundError\u001b[0m                         Traceback (most recent call last)",
      "Cell \u001b[1;32mIn[25], line 73\u001b[0m\n\u001b[0;32m     62\u001b[0m                 cv2\u001b[39m.\u001b[39mimwrite(\n\u001b[0;32m     63\u001b[0m                     \u001b[39mf\u001b[39m\u001b[39m\"\u001b[39m\u001b[39m./\u001b[39m\u001b[39m{\u001b[39;00mdataset_name\u001b[39m}\u001b[39;00m\u001b[39m/\u001b[39m\u001b[39m{\u001b[39;00m\u001b[39mrange\u001b[39m\u001b[39m}\u001b[39;00m\u001b[39m/\u001b[39m\u001b[39m{\u001b[39;00mfilename_prefix\u001b[39m}\u001b[39;00m\u001b[39m_15_flipped.jpg\u001b[39m\u001b[39m\"\u001b[39m,\n\u001b[0;32m     64\u001b[0m                     rotate_clockwise_15,\n\u001b[0;32m     65\u001b[0m                     [\u001b[39mint\u001b[39m(cv2\u001b[39m.\u001b[39mIMWRITE_JPEG_QUALITY), \u001b[39m100\u001b[39m],\n\u001b[0;32m     66\u001b[0m                 )\n\u001b[0;32m     67\u001b[0m                 cv2\u001b[39m.\u001b[39mimwrite(\n\u001b[0;32m     68\u001b[0m                     \u001b[39mf\u001b[39m\u001b[39m\"\u001b[39m\u001b[39m./\u001b[39m\u001b[39m{\u001b[39;00mdataset_name\u001b[39m}\u001b[39;00m\u001b[39m/\u001b[39m\u001b[39m{\u001b[39;00m\u001b[39mrange\u001b[39m\u001b[39m}\u001b[39;00m\u001b[39m/\u001b[39m\u001b[39m{\u001b[39;00mfilename_prefix\u001b[39m}\u001b[39;00m\u001b[39m_30_flipped.jpg\u001b[39m\u001b[39m\"\u001b[39m,\n\u001b[0;32m     69\u001b[0m                     rotate_clockwise_30,\n\u001b[0;32m     70\u001b[0m                     [\u001b[39mint\u001b[39m(cv2\u001b[39m.\u001b[39mIMWRITE_JPEG_QUALITY), \u001b[39m100\u001b[39m],\n\u001b[0;32m     71\u001b[0m                 )\n\u001b[1;32m---> 73\u001b[0m augment_images(\u001b[39m\"\u001b[39;49m\u001b[39mdataset_test\u001b[39;49m\u001b[39m\"\u001b[39;49m, balanced_ranges)\n",
      "Cell \u001b[1;32mIn[25], line 12\u001b[0m, in \u001b[0;36maugment_images\u001b[1;34m(dataset_name, keyranges)\u001b[0m\n\u001b[0;32m     10\u001b[0m \u001b[39mfor\u001b[39;00m \u001b[39mrange\u001b[39m \u001b[39min\u001b[39;00m keyranges:\n\u001b[0;32m     11\u001b[0m     directory \u001b[39m=\u001b[39m os\u001b[39m.\u001b[39mpath\u001b[39m.\u001b[39mjoin(\u001b[39mf\u001b[39m\u001b[39m\"\u001b[39m\u001b[39m./\u001b[39m\u001b[39m{\u001b[39;00mdataset_name\u001b[39m}\u001b[39;00m\u001b[39m\"\u001b[39m, \u001b[39mrange\u001b[39m)\n\u001b[1;32m---> 12\u001b[0m     \u001b[39mfor\u001b[39;00m filename \u001b[39min\u001b[39;00m os\u001b[39m.\u001b[39;49mlistdir(directory):\n\u001b[0;32m     13\u001b[0m         f \u001b[39m=\u001b[39m os\u001b[39m.\u001b[39mpath\u001b[39m.\u001b[39mjoin(directory, filename)\n\u001b[0;32m     14\u001b[0m         \u001b[39mif\u001b[39;00m os\u001b[39m.\u001b[39mpath\u001b[39m.\u001b[39misfile(f):\n",
      "\u001b[1;31mFileNotFoundError\u001b[0m: [WinError 3] The system cannot find the path specified: './dataset_test\\\\3-11'"
     ]
    }
   ],
   "source": [
    "def augment_images(dataset_name, keyranges):\n",
    "    image_size = (200, 200)\n",
    "    image_center = (100, 100)\n",
    "    # create rotation images\n",
    "    M_counter_30 = cv2.getRotationMatrix2D(image_center, -30, 1) \n",
    "    M_counter_15 = cv2.getRotationMatrix2D(image_center, -15, 1) \n",
    "    M_clockwise_15 = cv2.getRotationMatrix2D(image_center, 15, 1) \n",
    "    M_clockwise_30 = cv2.getRotationMatrix2D(image_center, 30, 1) \n",
    "\n",
    "    for range in keyranges:\n",
    "        directory = os.path.join(f\"./{dataset_name}\", range)\n",
    "        for filename in os.listdir(directory):\n",
    "            f = os.path.join(directory, filename)\n",
    "            if os.path.isfile(f):\n",
    "                image = cv2.imread(f)\n",
    "                filename_prefix = filename.split(\".\")[0]\n",
    "                # augment original image\n",
    "                rotate_counter_30 = cv2.warpAffine(image, M_counter_30, image_size)\n",
    "                rotate_counter_15 = cv2.warpAffine(image, M_counter_15, image_size)\n",
    "                rotate_clockwise_15 = cv2.warpAffine(image, M_clockwise_15, image_size)\n",
    "                rotate_clockwise_30 = cv2.warpAffine(image, M_clockwise_30, image_size)\n",
    "                # save copies\n",
    "                cv2.imwrite(\n",
    "                    f\"./{dataset_name}/{range}/{filename_prefix}_-30.jpg\",\n",
    "                    rotate_counter_30,\n",
    "                    [int(cv2.IMWRITE_JPEG_QUALITY), 100],\n",
    "                )\n",
    "                cv2.imwrite(\n",
    "                    f\"./{dataset_name}/{range}/{filename_prefix}_-15.jpg\",\n",
    "                    rotate_counter_15,\n",
    "                    [int(cv2.IMWRITE_JPEG_QUALITY), 100],\n",
    "                )\n",
    "                cv2.imwrite(\n",
    "                    f\"./{dataset_name}/{range}/{filename_prefix}_15.jpg\",\n",
    "                    rotate_clockwise_15,\n",
    "                    [int(cv2.IMWRITE_JPEG_QUALITY), 100],\n",
    "                )\n",
    "                cv2.imwrite(\n",
    "                    f\"./{dataset_name}/{range}/{filename_prefix}_30.jpg\",\n",
    "                    rotate_clockwise_30,\n",
    "                    [int(cv2.IMWRITE_JPEG_QUALITY), 100],\n",
    "                )\n",
    "\n",
    "                # augment flipped image\n",
    "                image_flipped = cv2.flip(image, 1)\n",
    "                # augment original image\n",
    "                rotate_counter_30 = cv2.warpAffine(image_flipped, M_counter_30, image_size)\n",
    "                rotate_counter_15 = cv2.warpAffine(image_flipped, M_counter_15, image_size)\n",
    "                rotate_clockwise_15 = cv2.warpAffine(image_flipped, M_clockwise_15, image_size)\n",
    "                rotate_clockwise_30 = cv2.warpAffine(image_flipped, M_clockwise_30, image_size)\n",
    "                # save copies\n",
    "                cv2.imwrite(\n",
    "                    f\"./{dataset_name}/{range}/{filename_prefix}_-30_flipped.jpg\",\n",
    "                    rotate_counter_30,\n",
    "                    [int(cv2.IMWRITE_JPEG_QUALITY), 100],\n",
    "                )\n",
    "                cv2.imwrite(\n",
    "                    f\"./{dataset_name}/{range}/{filename_prefix}_-15_flipped.jpg\",\n",
    "                    rotate_counter_15,\n",
    "                    [int(cv2.IMWRITE_JPEG_QUALITY), 100],\n",
    "                )\n",
    "                cv2.imwrite(\n",
    "                    f\"./{dataset_name}/{range}/{filename_prefix}_15_flipped.jpg\",\n",
    "                    rotate_clockwise_15,\n",
    "                    [int(cv2.IMWRITE_JPEG_QUALITY), 100],\n",
    "                )\n",
    "                cv2.imwrite(\n",
    "                    f\"./{dataset_name}/{range}/{filename_prefix}_30_flipped.jpg\",\n",
    "                    rotate_clockwise_30,\n",
    "                    [int(cv2.IMWRITE_JPEG_QUALITY), 100],\n",
    "                )\n",
    "\n",
    "augment_images(\"dataset_test\", balanced_ranges)"
   ]
  },
  {
   "attachments": {},
   "cell_type": "markdown",
   "metadata": {},
   "source": [
    "Konwertuj pokatalogowany dataset na dataset zbiorczy"
   ]
  },
  {
   "cell_type": "code",
   "execution_count": 29,
   "metadata": {},
   "outputs": [
    {
     "ename": "KeyboardInterrupt",
     "evalue": "",
     "output_type": "error",
     "traceback": [
      "\u001b[1;31m---------------------------------------------------------------------------\u001b[0m",
      "\u001b[1;31mKeyboardInterrupt\u001b[0m                         Traceback (most recent call last)",
      "Cell \u001b[1;32mIn[29], line 35\u001b[0m\n\u001b[0;32m     28\u001b[0m                 image \u001b[39m=\u001b[39m cv2\u001b[39m.\u001b[39mimread(f)\n\u001b[0;32m     29\u001b[0m                 cv2\u001b[39m.\u001b[39mimwrite(\n\u001b[0;32m     30\u001b[0m                     \u001b[39mf\u001b[39m\u001b[39m\"\u001b[39m\u001b[39m./data_merged_\u001b[39m\u001b[39m{\u001b[39;00mdataset\u001b[39m}\u001b[39;00m\u001b[39m/\u001b[39m\u001b[39m{\u001b[39;00mfilename\u001b[39m}\u001b[39;00m\u001b[39m\"\u001b[39m,\n\u001b[0;32m     31\u001b[0m                     image,\n\u001b[0;32m     32\u001b[0m                     [\u001b[39mint\u001b[39m(cv2\u001b[39m.\u001b[39mIMWRITE_JPEG_QUALITY), \u001b[39m100\u001b[39m],\n\u001b[0;32m     33\u001b[0m                 )\n\u001b[1;32m---> 35\u001b[0m merge_datasets(\u001b[39m\"\u001b[39;49m\u001b[39mdataset_greyscale\u001b[39;49m\u001b[39m\"\u001b[39;49m, balanced_ranges)\n",
      "Cell \u001b[1;32mIn[29], line 29\u001b[0m, in \u001b[0;36mmerge_datasets\u001b[1;34m(dataset, keyranges, image_limit)\u001b[0m\n\u001b[0;32m     27\u001b[0m \u001b[39m# copy image\u001b[39;00m\n\u001b[0;32m     28\u001b[0m image \u001b[39m=\u001b[39m cv2\u001b[39m.\u001b[39mimread(f)\n\u001b[1;32m---> 29\u001b[0m cv2\u001b[39m.\u001b[39;49mimwrite(\n\u001b[0;32m     30\u001b[0m     \u001b[39mf\u001b[39;49m\u001b[39m\"\u001b[39;49m\u001b[39m./data_merged_\u001b[39;49m\u001b[39m{\u001b[39;49;00mdataset\u001b[39m}\u001b[39;49;00m\u001b[39m/\u001b[39;49m\u001b[39m{\u001b[39;49;00mfilename\u001b[39m}\u001b[39;49;00m\u001b[39m\"\u001b[39;49m,\n\u001b[0;32m     31\u001b[0m     image,\n\u001b[0;32m     32\u001b[0m     [\u001b[39mint\u001b[39;49m(cv2\u001b[39m.\u001b[39;49mIMWRITE_JPEG_QUALITY), \u001b[39m100\u001b[39;49m],\n\u001b[0;32m     33\u001b[0m )\n",
      "\u001b[1;31mKeyboardInterrupt\u001b[0m: "
     ]
    }
   ],
   "source": [
    "def merge_datasets(dataset, keyranges, image_limit = -1):\n",
    "    if os.path.isdir(f\"./data_merged_{dataset}\"):\n",
    "        shutil.rmtree(f\"./data_merged_{dataset}\")\n",
    "    \n",
    "    os.mkdir(f\"./data_merged_{dataset}\")\n",
    "\n",
    "    current_age = 0\n",
    "    image_counter = 0\n",
    "\n",
    "\n",
    "    for range in keyranges:\n",
    "        src_directory = os.path.join(f'./{dataset}', range)\n",
    "        for filename in os.listdir(src_directory):\n",
    "            f = os.path.join(src_directory, filename)\n",
    "            if os.path.isfile(f):\n",
    "                # determine age and increase counter for the limiter\n",
    "                if image_limit > 0:\n",
    "                    age = int(filename.split(\"_\")[0])\n",
    "                    if age == current_age:\n",
    "                        image_counter += 1\n",
    "                    else:\n",
    "                        current_age = age\n",
    "                        image_counter = 0\n",
    "\n",
    "                    if image_counter >= image_limit:\n",
    "                        continue\n",
    "                # copy image\n",
    "                image = cv2.imread(f)\n",
    "                cv2.imwrite(\n",
    "                    f\"./data_merged_{dataset}/{filename}\",\n",
    "                    image,\n",
    "                    [int(cv2.IMWRITE_JPEG_QUALITY), 100],\n",
    "                )\n",
    "            \n",
    "merge_datasets(\"dataset_greyscale\", balanced_ranges, 1)"
   ]
  }
 ],
 "metadata": {
  "kernelspec": {
   "display_name": "Python 3",
   "language": "python",
   "name": "python3"
  },
  "language_info": {
   "codemirror_mode": {
    "name": "ipython",
    "version": 3
   },
   "file_extension": ".py",
   "mimetype": "text/x-python",
   "name": "python",
   "nbconvert_exporter": "python",
   "pygments_lexer": "ipython3",
   "version": "3.10.0"
  },
  "orig_nbformat": 4
 },
 "nbformat": 4,
 "nbformat_minor": 2
}
